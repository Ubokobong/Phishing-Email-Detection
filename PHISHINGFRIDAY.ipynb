{
 "cells": [
  {
   "cell_type": "code",
   "execution_count": 1,
   "id": "9403a641",
   "metadata": {},
   "outputs": [],
   "source": [
    "import pandas as pd\n",
    "import matplotlib.pyplot as plt\n",
    "import seaborn as sns\n",
    "from sklearn.feature_extraction.text import CountVectorizer\n",
    "from sklearn.model_selection import train_test_split\n",
    "from sklearn.svm import SVC\n",
    "from sklearn.metrics import accuracy_score, classification_report\n",
    "from sklearn.naive_bayes import MultinomialNB\n",
    "from sklearn.ensemble import GradientBoostingClassifier, RandomForestClassifier"
   ]
  },
  {
   "cell_type": "code",
   "execution_count": 2,
   "id": "872ce935",
   "metadata": {},
   "outputs": [],
   "source": [
    "df = pd.read_excel('Datasetforphishing Contd.xlsx')"
   ]
  },
  {
   "cell_type": "code",
   "execution_count": 3,
   "id": "fed5a76e",
   "metadata": {},
   "outputs": [
    {
     "data": {
      "text/html": [
       "<div>\n",
       "<style scoped>\n",
       "    .dataframe tbody tr th:only-of-type {\n",
       "        vertical-align: middle;\n",
       "    }\n",
       "\n",
       "    .dataframe tbody tr th {\n",
       "        vertical-align: top;\n",
       "    }\n",
       "\n",
       "    .dataframe thead th {\n",
       "        text-align: right;\n",
       "    }\n",
       "</style>\n",
       "<table border=\"1\" class=\"dataframe\">\n",
       "  <thead>\n",
       "    <tr style=\"text-align: right;\">\n",
       "      <th></th>\n",
       "      <th>Label</th>\n",
       "      <th>Contents</th>\n",
       "      <th>Links</th>\n",
       "      <th>Sender Name</th>\n",
       "      <th>Subject</th>\n",
       "      <th>Sender Email</th>\n",
       "    </tr>\n",
       "  </thead>\n",
       "  <tbody>\n",
       "    <tr>\n",
       "      <th>0</th>\n",
       "      <td>not_spam</td>\n",
       "      <td>Your subscription to Microsoft 365 Family has ...</td>\n",
       "      <td>NaN</td>\n",
       "      <td>Microsoft</td>\n",
       "      <td>Your subscription to Microsoft 365 Family has ...</td>\n",
       "      <td>microsoft-noreply@microsoft.com</td>\n",
       "    </tr>\n",
       "    <tr>\n",
       "      <th>1</th>\n",
       "      <td>not_spam</td>\n",
       "      <td>Udemy Logo\\n\\nRecommended topics for you:\\nCom...</td>\n",
       "      <td>NaN</td>\n",
       "      <td>\\nUdemy</td>\n",
       "      <td>We’ve got some new IT &amp; Software course recomm...</td>\n",
       "      <td>hello@students.udemy.com</td>\n",
       "    </tr>\n",
       "    <tr>\n",
       "      <th>2</th>\n",
       "      <td>spam</td>\n",
       "      <td>https://drive.google.com/file/d/1gFnGbalxwhaX...</td>\n",
       "      <td>https://drive.google.com/file/d/1gFnGbalxwhaXt...</td>\n",
       "      <td>\\nBinh Mr</td>\n",
       "      <td>Balance will be deleted 0.643253 ETH</td>\n",
       "      <td>mrbinh03@gmail.com</td>\n",
       "    </tr>\n",
       "    <tr>\n",
       "      <th>3</th>\n",
       "      <td>not_spam</td>\n",
       "      <td>Microsoft account\\nNew app(s) have access to y...</td>\n",
       "      <td>NaN</td>\n",
       "      <td>Microsoft account team</td>\n",
       "      <td>New app(s) connected to your Microsoft account</td>\n",
       "      <td>account-security-noreply@accountprotection.mic...</td>\n",
       "    </tr>\n",
       "    <tr>\n",
       "      <th>4</th>\n",
       "      <td>not_spam</td>\n",
       "      <td>With regard to the softs curves development , ...</td>\n",
       "      <td>http://parcplace.com</td>\n",
       "      <td>\\nFirstbase Place</td>\n",
       "      <td>Save $80 on incorporation with promo code SPEC...</td>\n",
       "      <td>arya_wayne@gmail.com</td>\n",
       "    </tr>\n",
       "  </tbody>\n",
       "</table>\n",
       "</div>"
      ],
      "text/plain": [
       "      Label                                           Contents  \\\n",
       "0  not_spam  Your subscription to Microsoft 365 Family has ...   \n",
       "1  not_spam  Udemy Logo\\n\\nRecommended topics for you:\\nCom...   \n",
       "2      spam   https://drive.google.com/file/d/1gFnGbalxwhaX...   \n",
       "3  not_spam  Microsoft account\\nNew app(s) have access to y...   \n",
       "4  not_spam  With regard to the softs curves development , ...   \n",
       "\n",
       "                                               Links              Sender Name  \\\n",
       "0                                                NaN               Microsoft    \n",
       "1                                                NaN                  \\nUdemy   \n",
       "2  https://drive.google.com/file/d/1gFnGbalxwhaXt...                \\nBinh Mr   \n",
       "3                                                NaN  Microsoft account team    \n",
       "4                               http://parcplace.com        \\nFirstbase Place   \n",
       "\n",
       "                                             Subject  \\\n",
       "0  Your subscription to Microsoft 365 Family has ...   \n",
       "1  We’ve got some new IT & Software course recomm...   \n",
       "2               Balance will be deleted 0.643253 ETH   \n",
       "3     New app(s) connected to your Microsoft account   \n",
       "4  Save $80 on incorporation with promo code SPEC...   \n",
       "\n",
       "                                        Sender Email  \n",
       "0                    microsoft-noreply@microsoft.com  \n",
       "1                           hello@students.udemy.com  \n",
       "2                                 mrbinh03@gmail.com  \n",
       "3  account-security-noreply@accountprotection.mic...  \n",
       "4                               arya_wayne@gmail.com  "
      ]
     },
     "execution_count": 3,
     "metadata": {},
     "output_type": "execute_result"
    }
   ],
   "source": [
    "# Filter out columns that start with 'Unnamed'\n",
    "df = df.loc[:, ~df.columns.str.startswith('Unnamed')]\n",
    "df.head()"
   ]
  },
  {
   "cell_type": "code",
   "execution_count": 4,
   "id": "37c3e60c",
   "metadata": {},
   "outputs": [
    {
     "name": "stdout",
     "output_type": "stream",
     "text": [
      "<class 'pandas.core.frame.DataFrame'>\n",
      "RangeIndex: 402 entries, 0 to 401\n",
      "Data columns (total 6 columns):\n",
      " #   Column        Non-Null Count  Dtype \n",
      "---  ------        --------------  ----- \n",
      " 0   Label         402 non-null    object\n",
      " 1   Contents      402 non-null    object\n",
      " 2   Links         143 non-null    object\n",
      " 3   Sender Name   383 non-null    object\n",
      " 4   Subject       393 non-null    object\n",
      " 5   Sender Email  401 non-null    object\n",
      "dtypes: object(6)\n",
      "memory usage: 19.0+ KB\n"
     ]
    }
   ],
   "source": [
    "df.info()"
   ]
  },
  {
   "cell_type": "code",
   "execution_count": 5,
   "id": "8e1c4c00",
   "metadata": {},
   "outputs": [
    {
     "data": {
      "text/html": [
       "<div>\n",
       "<style scoped>\n",
       "    .dataframe tbody tr th:only-of-type {\n",
       "        vertical-align: middle;\n",
       "    }\n",
       "\n",
       "    .dataframe tbody tr th {\n",
       "        vertical-align: top;\n",
       "    }\n",
       "\n",
       "    .dataframe thead th {\n",
       "        text-align: right;\n",
       "    }\n",
       "</style>\n",
       "<table border=\"1\" class=\"dataframe\">\n",
       "  <thead>\n",
       "    <tr style=\"text-align: right;\">\n",
       "      <th></th>\n",
       "      <th>Label</th>\n",
       "      <th>Contents</th>\n",
       "      <th>Links</th>\n",
       "      <th>Sender Name</th>\n",
       "      <th>Subject</th>\n",
       "      <th>Sender Email</th>\n",
       "    </tr>\n",
       "  </thead>\n",
       "  <tbody>\n",
       "    <tr>\n",
       "      <th>count</th>\n",
       "      <td>402</td>\n",
       "      <td>402</td>\n",
       "      <td>143</td>\n",
       "      <td>383</td>\n",
       "      <td>393</td>\n",
       "      <td>401</td>\n",
       "    </tr>\n",
       "    <tr>\n",
       "      <th>unique</th>\n",
       "      <td>2</td>\n",
       "      <td>396</td>\n",
       "      <td>120</td>\n",
       "      <td>281</td>\n",
       "      <td>341</td>\n",
       "      <td>277</td>\n",
       "    </tr>\n",
       "    <tr>\n",
       "      <th>top</th>\n",
       "      <td>not_spam</td>\n",
       "      <td>Transaction Alert: Dear  Olawunmi, Guaranty Tr...</td>\n",
       "      <td>https://intelligentcryptocurrency.com/vip</td>\n",
       "      <td>Kuda</td>\n",
       "      <td>Transaction Notification</td>\n",
       "      <td>hello@students.udemy.com</td>\n",
       "    </tr>\n",
       "    <tr>\n",
       "      <th>freq</th>\n",
       "      <td>263</td>\n",
       "      <td>2</td>\n",
       "      <td>4</td>\n",
       "      <td>10</td>\n",
       "      <td>9</td>\n",
       "      <td>13</td>\n",
       "    </tr>\n",
       "  </tbody>\n",
       "</table>\n",
       "</div>"
      ],
      "text/plain": [
       "           Label                                           Contents  \\\n",
       "count        402                                                402   \n",
       "unique         2                                                396   \n",
       "top     not_spam  Transaction Alert: Dear  Olawunmi, Guaranty Tr...   \n",
       "freq         263                                                  2   \n",
       "\n",
       "                                            Links Sender Name  \\\n",
       "count                                         143         383   \n",
       "unique                                        120         281   \n",
       "top     https://intelligentcryptocurrency.com/vip        Kuda   \n",
       "freq                                            4          10   \n",
       "\n",
       "                         Subject              Sender Email  \n",
       "count                        393                       401  \n",
       "unique                       341                       277  \n",
       "top     Transaction Notification  hello@students.udemy.com  \n",
       "freq                           9                        13  "
      ]
     },
     "execution_count": 5,
     "metadata": {},
     "output_type": "execute_result"
    }
   ],
   "source": [
    "df.describe()"
   ]
  },
  {
   "cell_type": "code",
   "execution_count": 6,
   "id": "676aac53",
   "metadata": {},
   "outputs": [],
   "source": [
    "def showSpamClassficationDist(df):\n",
    "    # Visualizing the distribution of the 'label' column\n",
    "    plt.figure(figsize=(8, 6))\n",
    "    sns.countplot(x='Label', data= df)\n",
    "    plt.title('Email classification distribution')\n",
    "    plt.show()\n",
    "    \n",
    "#def merge(q : tuple):\n",
    "#    return q[0] + \"\\n\" + q[1] + \"\\n\" + q[2] + \"\\n\" + q[3]\n",
    "\n",
    "def arrange(df):\n",
    "    l = []\n",
    "    for i in range(len(df)):  # iterate through the DataFrame rows\n",
    "        try:\n",
    "            c = str(df['Contents'][i])\n",
    "            #sn = str(df['Sender Name'][i])\n",
    "            #se = str(df['Sender Email'][i])\n",
    "            #s = str(df['Subject'][i])\n",
    "            #l.append(sn+\"\\n\"+se+\"\\n\"+s+\"\\n\"+c)\n",
    "            #l.append(s+\"\\n\"+c)\n",
    "            l.append(c)\n",
    "        except TypeError:\n",
    "            print (f'Error processing row {i}')\n",
    "    la = df['Label']\n",
    "    df2 = pd.DataFrame(zip(la, l), columns=['Label', 'Contents'])\n",
    "    return df2"
   ]
  },
  {
   "cell_type": "code",
   "execution_count": 7,
   "id": "567b787e",
   "metadata": {},
   "outputs": [
    {
     "name": "stdout",
     "output_type": "stream",
     "text": [
      "Total missing values Label             0\n",
      "Contents          0\n",
      "Links           259\n",
      "Sender Name      19\n",
      "Subject           9\n",
      "Sender Email      1\n",
      "dtype: int64\n"
     ]
    },
    {
     "name": "stderr",
     "output_type": "stream",
     "text": [
      "/var/folders/l5/44cdf79173j5gfy0cg2f5xnh0000gn/T/ipykernel_30015/1059583968.py:21: FutureWarning: A value is trying to be set on a copy of a DataFrame or Series through chained assignment using an inplace method.\n",
      "The behavior will change in pandas 3.0. This inplace method will never work because the intermediate object on which we are setting values always behaves as a copy.\n",
      "\n",
      "For example, when doing 'df[col].method(value, inplace=True)', try using 'df.method({col: value}, inplace=True)' or df[col] = df[col].method(value) instead, to perform the operation inplace on the original object.\n",
      "\n",
      "\n",
      "  df['Contents'].fillna('', inplace=True)\n"
     ]
    },
    {
     "data": {
      "image/png": "[encoded data removed]",
      "text/plain": [
       "<Figure size 800x600 with 1 Axes>"
      ]
     },
     "metadata": {},
     "output_type": "display_data"
    }
   ],
   "source": [
    "# Checking for missing values\n",
    "print(f\"Total missing values {df.isnull().sum()}\")\n",
    "\n",
    "# Select the 'Label' and 'Contents' columns\n",
    "#df = df[['Label', 'Contents', 'Sender Name', 'Sender Email', 'Subject']]\n",
    "df['Contents'].astype(str)\n",
    "df['Sender Name'].astype(str)\n",
    "df['Sender Email'].astype(str)\n",
    "df['Subject'].astype(str)\n",
    "\n",
    "#contents_col = [merge(q) for q in zip(df['Sender Name'], df['Sender Email'], df['Subject'], df['Contents'])]\n",
    "df = arrange(df)\n",
    "#df = pd.DataFrame(zip(df['Label'], contents_col), columns = ['Label', 'Contents'])\n",
    "\n",
    "# Drop duplicates\n",
    "df = df.drop_duplicates()\n",
    "\n",
    "# Drop missing values\n",
    "df.dropna(inplace=True)\n",
    "\n",
    "df['Contents'].fillna('', inplace=True)\n",
    "\n",
    "df['Contents'].astype(str)\n",
    "\n",
    "\n",
    "showSpamClassficationDist(df)\n",
    "\n",
    "#df['content'] = df['Contents'].apply(preprocess_text)\n",
    "#zz = df['Contents'] \n",
    "#yy = df['Category']\n",
    "\n",
    "# Apply CountVectorizer\n",
    "vectorizer = CountVectorizer(stop_words='english')\n",
    "X = vectorizer.fit_transform(df['Contents'])\n",
    "#print(df['Label'])\n",
    "\n",
    "y = df['Label'].map({'spam': 1, 'not_spam': 0})\n",
    "\n",
    "# Split the dataset into training and testing sets\n",
    "X_train, X_test, y_train, y_test = train_test_split(X, y, test_size=0.2, random_state=42)\n",
    "\n",
    "#print(y)"
   ]
  },
  {
   "cell_type": "code",
   "execution_count": 8,
   "id": "aab29e08",
   "metadata": {},
   "outputs": [
    {
     "name": "stdout",
     "output_type": "stream",
     "text": [
      "SVM Accuracy: 0.8375\n",
      "SVM Classification Report:\n",
      "              precision    recall  f1-score   support\n",
      "\n",
      "           0       0.83      0.98      0.90        58\n",
      "           1       0.91      0.45      0.61        22\n",
      "\n",
      "    accuracy                           0.84        80\n",
      "   macro avg       0.87      0.72      0.75        80\n",
      "weighted avg       0.85      0.84      0.82        80\n",
      "\n"
     ]
    }
   ],
   "source": [
    "\n",
    "\n",
    "# Train the models\n",
    "# SVM\n",
    "svm_model = SVC()\n",
    "svm_model.fit(X_train, y_train)\n",
    "\n",
    "# Evaluate the models\n",
    "# SVM\n",
    "svm_pred = svm_model.predict(X_test)\n",
    "svm_accuracy = accuracy_score(y_test, svm_pred)\n",
    "svm_report = classification_report(y_test, svm_pred)\n",
    "\n",
    "# Print the evaluation results\n",
    "print(\"SVM Accuracy:\", svm_accuracy)\n",
    "print(\"SVM Classification Report:\")\n",
    "print(svm_report)"
   ]
  },
  {
   "cell_type": "code",
   "execution_count": 9,
   "id": "c1650fa2",
   "metadata": {},
   "outputs": [
    {
     "data": {
      "text/plain": [
       "{'0': {'precision': 0.8260869565217391,\n",
       "  'recall': 0.9827586206896551,\n",
       "  'f1-score': 0.8976377952755905,\n",
       "  'support': 58},\n",
       " '1': {'precision': 0.9090909090909091,\n",
       "  'recall': 0.45454545454545453,\n",
       "  'f1-score': 0.6060606060606061,\n",
       "  'support': 22},\n",
       " 'accuracy': 0.8375,\n",
       " 'macro avg': {'precision': 0.8675889328063241,\n",
       "  'recall': 0.7186520376175548,\n",
       "  'f1-score': 0.7518492006680983,\n",
       "  'support': 80},\n",
       " 'weighted avg': {'precision': 0.8489130434782609,\n",
       "  'recall': 0.8375,\n",
       "  'f1-score': 0.8174540682414697,\n",
       "  'support': 80}}"
      ]
     },
     "execution_count": 9,
     "metadata": {},
     "output_type": "execute_result"
    }
   ],
   "source": [
    "report_dict =classification_report(y_test, svm_pred, output_dict=True)\n",
    "report_dict"
   ]
  },
  {
   "cell_type": "code",
   "execution_count": 10,
   "id": "a1bcaf3b",
   "metadata": {},
   "outputs": [],
   "source": [
    "import mlflow"
   ]
  },
  {
   "cell_type": "code",
   "execution_count": 12,
   "id": "8f3a8105",
   "metadata": {},
   "outputs": [
    {
     "name": "stderr",
     "output_type": "stream",
     "text": [
      "2024/10/04 14:47:05 INFO mlflow.tracking.fluent: Experiment with name 'First Experiment' does not exist. Creating a new experiment.\n",
      "2024/10/04 14:47:12 WARNING mlflow.models.model: Model logged without a signature and input example. Please set `input_example` parameter when logging the model to auto infer the model signature.\n",
      "2024/10/04 14:47:12 INFO mlflow.tracking._tracking_service.client: 🏃 View run selective-cow-625 at: http://127.0.0.1:5000/#/experiments/682285535778217075/runs/de0092e6780545aea3df5777bd044586.\n",
      "2024/10/04 14:47:12 INFO mlflow.tracking._tracking_service.client: 🧪 View experiment at: http://127.0.0.1:5000/#/experiments/682285535778217075.\n"
     ]
    }
   ],
   "source": [
    "mlflow.set_experiment(\"First Experiment\")\n",
    "mlflow.set_tracking_uri(\"http://127.0.0.1:5000/\")\n",
    "with mlflow.start_run():\n",
    "    mlflow.log_metrics({\n",
    "        'accuracy': report_dict['accuracy'],\n",
    "        'recall_class_0': report_dict['0']['recall'],\n",
    "        'recall_class_1': report_dict['1']['recall'],\n",
    "        'f1_score_macro': report_dict['macro avg']['f1-score']\n",
    "    })\n",
    "    mlflow.sklearn.log_model(svm_model, \"SVM\")"
   ]
  },
  {
   "cell_type": "code",
   "execution_count": null,
   "id": "150928c3",
   "metadata": {},
   "outputs": [],
   "source": [
    "model_uri = f\"runs:\n",
    "result = mlflow.register_model(\n",
    "    \n",
    "    \"runs:/d16076a3ec534311817565e6527539c0/sklearn-model\", \"sk-learn-random-forest-reg\"\n",
    ")\n"
   ]
  }
 ],
 "metadata": {
  "kernelspec": {
   "display_name": "Python 3 (ipykernel)",
   "language": "python",
   "name": "python3"
  },
  "language_info": {
   "codemirror_mode": {
    "name": "ipython",
    "version": 3
   },
   "file_extension": ".py",
   "mimetype": "text/x-python",
   "name": "python",
   "nbconvert_exporter": "python",
   "pygments_lexer": "ipython3",
   "version": "3.10.9"
  }
 },
 "nbformat": 4,
 "nbformat_minor": 5
}
